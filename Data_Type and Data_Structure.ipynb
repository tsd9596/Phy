{
 "cells": [
  {
   "cell_type": "markdown",
   "id": "eee89781",
   "metadata": {},
   "source": [
    "# List"
   ]
  },
  {
   "cell_type": "code",
   "execution_count": 1,
   "id": "088adc44",
   "metadata": {},
   "outputs": [],
   "source": [
    "a = [100,200,400,600,800,1000]\n"
   ]
  },
  {
   "cell_type": "markdown",
   "id": "0f7216c9",
   "metadata": {},
   "source": [
    "### 1.Insert():\n",
    "- Used to add single element at the desired location."
   ]
  },
  {
   "cell_type": "code",
   "execution_count": 2,
   "id": "91080dbc",
   "metadata": {},
   "outputs": [
    {
     "name": "stdout",
     "output_type": "stream",
     "text": [
      "[100, 200, 400, 300, 600, 800, 1000]\n"
     ]
    }
   ],
   "source": [
    "a.insert(3,300)\n",
    "print(a)"
   ]
  },
  {
   "cell_type": "markdown",
   "id": "6bf6da4c",
   "metadata": {},
   "source": [
    "### 2.Append():\n",
    "- Used to add Single element at the end.    "
   ]
  },
  {
   "cell_type": "code",
   "execution_count": 3,
   "id": "ca6a5d95",
   "metadata": {},
   "outputs": [
    {
     "name": "stdout",
     "output_type": "stream",
     "text": [
      "[100, 200, 400, 300, 600, 800, 1000, 2300]\n"
     ]
    }
   ],
   "source": [
    "a.append(2300)\n",
    "print(a)"
   ]
  },
  {
   "cell_type": "markdown",
   "id": "06378680",
   "metadata": {},
   "source": [
    "### 3.Extend():\n",
    "- Used to add multiple element at the end.    "
   ]
  },
  {
   "cell_type": "code",
   "execution_count": 4,
   "id": "c08b9608",
   "metadata": {},
   "outputs": [
    {
     "name": "stdout",
     "output_type": "stream",
     "text": [
      "[100, 200, 400, 300, 600, 800, 1000, 2300, 8500, 10000]\n"
     ]
    }
   ],
   "source": [
    "a.extend([8500,10000])\n",
    "print(a)"
   ]
  },
  {
   "cell_type": "code",
   "execution_count": 5,
   "id": "f951e124",
   "metadata": {},
   "outputs": [
    {
     "data": {
      "text/plain": [
       "10"
      ]
     },
     "execution_count": 5,
     "metadata": {},
     "output_type": "execute_result"
    }
   ],
   "source": [
    "len(a)"
   ]
  },
  {
   "cell_type": "code",
   "execution_count": 6,
   "id": "129db55f",
   "metadata": {},
   "outputs": [
    {
     "name": "stdout",
     "output_type": "stream",
     "text": [
      "[100, 200, 400, 300, 600, 800, 1000, 2300, 8500, 10000, 5550, 7850, 2500, 5650, 8540]\n"
     ]
    }
   ],
   "source": [
    "b=[5550,7850,2500,5650,8540]\n",
    "a.extend(b)\n",
    "print(a)"
   ]
  },
  {
   "cell_type": "code",
   "execution_count": 7,
   "id": "9b87e851",
   "metadata": {},
   "outputs": [],
   "source": [
    "a.remove(10000)"
   ]
  },
  {
   "cell_type": "code",
   "execution_count": 8,
   "id": "ece29ea9",
   "metadata": {},
   "outputs": [
    {
     "data": {
      "text/plain": [
       "[100, 200, 400, 300, 600, 800, 1000, 2300, 8500, 5550, 7850, 2500, 5650, 8540]"
      ]
     },
     "execution_count": 8,
     "metadata": {},
     "output_type": "execute_result"
    }
   ],
   "source": [
    "a"
   ]
  },
  {
   "cell_type": "code",
   "execution_count": 9,
   "id": "2ad8e63c",
   "metadata": {},
   "outputs": [
    {
     "name": "stdout",
     "output_type": "stream",
     "text": [
      "[100, 200, 300, 400, 600, 800, 1000, 2300, 2500, 5550, 5650, 7850, 8500, 8540]\n"
     ]
    }
   ],
   "source": [
    "a.sort()\n",
    "print(a)"
   ]
  },
  {
   "cell_type": "code",
   "execution_count": 10,
   "id": "43bdbef9",
   "metadata": {},
   "outputs": [
    {
     "data": {
      "text/plain": [
       "800"
      ]
     },
     "execution_count": 10,
     "metadata": {},
     "output_type": "execute_result"
    }
   ],
   "source": [
    "#Indexing\n",
    "\n",
    "a[5]"
   ]
  },
  {
   "cell_type": "code",
   "execution_count": 11,
   "id": "644c6215",
   "metadata": {},
   "outputs": [
    {
     "data": {
      "text/plain": [
       "100"
      ]
     },
     "execution_count": 11,
     "metadata": {},
     "output_type": "execute_result"
    }
   ],
   "source": [
    "min(a)"
   ]
  },
  {
   "cell_type": "code",
   "execution_count": 12,
   "id": "33a99e09",
   "metadata": {},
   "outputs": [
    {
     "data": {
      "text/plain": [
       "8540"
      ]
     },
     "execution_count": 12,
     "metadata": {},
     "output_type": "execute_result"
    }
   ],
   "source": [
    "max(a)"
   ]
  },
  {
   "cell_type": "markdown",
   "id": "87f43175",
   "metadata": {},
   "source": [
    "### 4.Count():\n",
    "- It returns the count of particular element.How many times no appear in list.    "
   ]
  },
  {
   "cell_type": "code",
   "execution_count": 13,
   "id": "d36476b2",
   "metadata": {},
   "outputs": [
    {
     "data": {
      "text/plain": [
       "0"
      ]
     },
     "execution_count": 13,
     "metadata": {},
     "output_type": "execute_result"
    }
   ],
   "source": [
    "a.count(500)"
   ]
  },
  {
   "cell_type": "markdown",
   "id": "c25609f7",
   "metadata": {},
   "source": [
    "### 5.pop():\n",
    "- It removes the last element added in list.    "
   ]
  },
  {
   "cell_type": "code",
   "execution_count": 14,
   "id": "f7924257",
   "metadata": {},
   "outputs": [
    {
     "data": {
      "text/plain": [
       "8540"
      ]
     },
     "execution_count": 14,
     "metadata": {},
     "output_type": "execute_result"
    }
   ],
   "source": [
    "a.pop()"
   ]
  },
  {
   "cell_type": "code",
   "execution_count": 15,
   "id": "8e25fbd5",
   "metadata": {},
   "outputs": [
    {
     "data": {
      "text/plain": [
       "[100, 200, 300, 400, 600, 800, 1000, 2300, 2500, 5550, 5650, 7850, 8500]"
      ]
     },
     "execution_count": 15,
     "metadata": {},
     "output_type": "execute_result"
    }
   ],
   "source": [
    "a"
   ]
  },
  {
   "cell_type": "code",
   "execution_count": 16,
   "id": "83e5e6e8",
   "metadata": {},
   "outputs": [
    {
     "data": {
      "text/plain": [
       "list"
      ]
     },
     "execution_count": 16,
     "metadata": {},
     "output_type": "execute_result"
    }
   ],
   "source": [
    "type(a)"
   ]
  },
  {
   "cell_type": "code",
   "execution_count": 17,
   "id": "847d5346",
   "metadata": {},
   "outputs": [],
   "source": [
    "a.reverse()"
   ]
  },
  {
   "cell_type": "code",
   "execution_count": 18,
   "id": "bc3576d8",
   "metadata": {},
   "outputs": [
    {
     "data": {
      "text/plain": [
       "[8500, 7850, 5650, 5550, 2500, 2300, 1000, 800, 600, 400, 300, 200, 100]"
      ]
     },
     "execution_count": 18,
     "metadata": {},
     "output_type": "execute_result"
    }
   ],
   "source": [
    "a"
   ]
  },
  {
   "cell_type": "code",
   "execution_count": null,
   "id": "cf6de0c5",
   "metadata": {},
   "outputs": [],
   "source": []
  },
  {
   "cell_type": "markdown",
   "id": "1e2a6311",
   "metadata": {},
   "source": [
    "# Tuple"
   ]
  },
  {
   "cell_type": "code",
   "execution_count": 19,
   "id": "0562ffbc",
   "metadata": {},
   "outputs": [],
   "source": [
    "Tu = ('Django','Machine Learning','Pyspark','Docker')"
   ]
  },
  {
   "cell_type": "code",
   "execution_count": 20,
   "id": "836b595d",
   "metadata": {},
   "outputs": [
    {
     "data": {
      "text/plain": [
       "('Django', 'Machine Learning', 'Pyspark', 'Docker')"
      ]
     },
     "execution_count": 20,
     "metadata": {},
     "output_type": "execute_result"
    }
   ],
   "source": [
    "Tu"
   ]
  },
  {
   "cell_type": "code",
   "execution_count": 21,
   "id": "6615db2b",
   "metadata": {},
   "outputs": [
    {
     "data": {
      "text/plain": [
       "tuple"
      ]
     },
     "execution_count": 21,
     "metadata": {},
     "output_type": "execute_result"
    }
   ],
   "source": [
    "type(Tu)"
   ]
  },
  {
   "cell_type": "code",
   "execution_count": 22,
   "id": "3280cba2",
   "metadata": {},
   "outputs": [
    {
     "data": {
      "text/plain": [
       "'Pyspark'"
      ]
     },
     "execution_count": 22,
     "metadata": {},
     "output_type": "execute_result"
    }
   ],
   "source": [
    "Tu[2]"
   ]
  },
  {
   "cell_type": "code",
   "execution_count": 23,
   "id": "502ee207",
   "metadata": {},
   "outputs": [
    {
     "data": {
      "text/plain": [
       "1"
      ]
     },
     "execution_count": 23,
     "metadata": {},
     "output_type": "execute_result"
    }
   ],
   "source": [
    "Tu.count('Docker')"
   ]
  },
  {
   "cell_type": "markdown",
   "id": "cd6a7e9a",
   "metadata": {},
   "source": [
    "##### List into Tuple"
   ]
  },
  {
   "cell_type": "code",
   "execution_count": 24,
   "id": "9a98f2f8",
   "metadata": {},
   "outputs": [
    {
     "name": "stdout",
     "output_type": "stream",
     "text": [
      "(1, 11, 111)\n"
     ]
    }
   ],
   "source": [
    "Li = [1,11,111]\n",
    "Tup = tuple(Li)\n",
    "print(Tup)"
   ]
  },
  {
   "cell_type": "markdown",
   "id": "97d949b6",
   "metadata": {},
   "source": [
    "##### Tuple into List"
   ]
  },
  {
   "cell_type": "code",
   "execution_count": 25,
   "id": "b71bd36b",
   "metadata": {},
   "outputs": [
    {
     "name": "stdout",
     "output_type": "stream",
     "text": [
      "[10, 20, 30, 40, 50]\n"
     ]
    }
   ],
   "source": [
    "L1 = (10,20,30,40,50)\n",
    "T1 = list(L1)\n",
    "print(T1)"
   ]
  },
  {
   "cell_type": "code",
   "execution_count": 26,
   "id": "c55dd2a8",
   "metadata": {},
   "outputs": [
    {
     "name": "stdout",
     "output_type": "stream",
     "text": [
      "[1500, 1850, ('ML', 'Flask'), 2560]\n"
     ]
    }
   ],
   "source": [
    "#Defining Tuple into a list.\n",
    "\n",
    "L2 = [1500,1850,('ML','Flask'),2560]\n",
    "print(L2)"
   ]
  },
  {
   "cell_type": "code",
   "execution_count": 27,
   "id": "06bc5519",
   "metadata": {},
   "outputs": [
    {
     "name": "stdout",
     "output_type": "stream",
     "text": [
      "('Data Analyst', 10, 15, 20, [50, 75, 100], 150)\n"
     ]
    }
   ],
   "source": [
    "#Defining List into Tuple.\n",
    "\n",
    "T2 = ('Data Analyst',10,15,20,[50,75,100],150)\n",
    "print(T2)"
   ]
  },
  {
   "cell_type": "code",
   "execution_count": null,
   "id": "ad6f2e05",
   "metadata": {},
   "outputs": [],
   "source": []
  },
  {
   "cell_type": "markdown",
   "id": "3bec8390",
   "metadata": {},
   "source": [
    "# Set"
   ]
  },
  {
   "cell_type": "markdown",
   "id": "a6579738",
   "metadata": {},
   "source": [
    "- Set is collection of Unique element.\n",
    "- Set is an unordered data structure.\n",
    "- Set is mutable type data structure.\n",
    "- Set does not duplicate values. "
   ]
  },
  {
   "cell_type": "code",
   "execution_count": 30,
   "id": "dd7af192",
   "metadata": {},
   "outputs": [],
   "source": [
    "S1 = {1,11,1111,11111}\n",
    "S1.add(111)"
   ]
  },
  {
   "cell_type": "code",
   "execution_count": 31,
   "id": "742676a7",
   "metadata": {},
   "outputs": [
    {
     "data": {
      "text/plain": [
       "{1, 11, 111, 1111, 11111}"
      ]
     },
     "execution_count": 31,
     "metadata": {},
     "output_type": "execute_result"
    }
   ],
   "source": [
    "S1"
   ]
  },
  {
   "cell_type": "code",
   "execution_count": 32,
   "id": "970b8bbb",
   "metadata": {},
   "outputs": [
    {
     "name": "stdout",
     "output_type": "stream",
     "text": [
      "{'IBM', 'Interview', 3220, 'Cricket', 'Mock', 4520}\n"
     ]
    }
   ],
   "source": [
    "S2 = {'IBM','Cricket','Mock',4520,3220}\n",
    "S2.add('Interview')\n",
    "print(S2)"
   ]
  },
  {
   "cell_type": "code",
   "execution_count": 33,
   "id": "81fc338b",
   "metadata": {},
   "outputs": [
    {
     "name": "stdout",
     "output_type": "stream",
     "text": [
      "{50, 20, 90, 40, 10, 30}\n",
      "{40, 80, 20, 60}\n"
     ]
    }
   ],
   "source": [
    "SA = {10,20,30,40,50,90}\n",
    "print(SA)\n",
    "\n",
    "SB = {20,40,60,80}\n",
    "print(SB)"
   ]
  },
  {
   "cell_type": "code",
   "execution_count": 34,
   "id": "e8890061",
   "metadata": {},
   "outputs": [
    {
     "data": {
      "text/plain": [
       "{10, 20, 30, 40, 50, 60, 80, 90}"
      ]
     },
     "execution_count": 34,
     "metadata": {},
     "output_type": "execute_result"
    }
   ],
   "source": [
    "SA.union(SB)"
   ]
  },
  {
   "cell_type": "code",
   "execution_count": 35,
   "id": "564f4088",
   "metadata": {},
   "outputs": [
    {
     "data": {
      "text/plain": [
       "{20, 40}"
      ]
     },
     "execution_count": 35,
     "metadata": {},
     "output_type": "execute_result"
    }
   ],
   "source": [
    "SA.intersection(SB)"
   ]
  },
  {
   "cell_type": "code",
   "execution_count": 36,
   "id": "10a8d6f2",
   "metadata": {},
   "outputs": [
    {
     "data": {
      "text/plain": [
       "{10, 30, 50, 60, 80, 90}"
      ]
     },
     "execution_count": 36,
     "metadata": {},
     "output_type": "execute_result"
    }
   ],
   "source": [
    "SA.symmetric_difference(SB)"
   ]
  },
  {
   "cell_type": "code",
   "execution_count": 37,
   "id": "bc71e978",
   "metadata": {},
   "outputs": [],
   "source": [
    "SA.intersection_update(SB)"
   ]
  },
  {
   "cell_type": "code",
   "execution_count": 38,
   "id": "17c90276",
   "metadata": {},
   "outputs": [
    {
     "data": {
      "text/plain": [
       "{20, 40}"
      ]
     },
     "execution_count": 38,
     "metadata": {},
     "output_type": "execute_result"
    }
   ],
   "source": [
    "SA"
   ]
  },
  {
   "cell_type": "code",
   "execution_count": 39,
   "id": "ab5f2762",
   "metadata": {},
   "outputs": [],
   "source": [
    "SB.remove(80)"
   ]
  },
  {
   "cell_type": "code",
   "execution_count": 40,
   "id": "97807d06",
   "metadata": {},
   "outputs": [
    {
     "data": {
      "text/plain": [
       "{20, 40, 60}"
      ]
     },
     "execution_count": 40,
     "metadata": {},
     "output_type": "execute_result"
    }
   ],
   "source": [
    "SB"
   ]
  },
  {
   "cell_type": "code",
   "execution_count": 41,
   "id": "10433444",
   "metadata": {},
   "outputs": [
    {
     "data": {
      "text/plain": [
       "40"
      ]
     },
     "execution_count": 41,
     "metadata": {},
     "output_type": "execute_result"
    }
   ],
   "source": [
    "SB.pop()"
   ]
  },
  {
   "cell_type": "code",
   "execution_count": 42,
   "id": "9bd06656",
   "metadata": {},
   "outputs": [
    {
     "data": {
      "text/plain": [
       "{20, 60}"
      ]
     },
     "execution_count": 42,
     "metadata": {},
     "output_type": "execute_result"
    }
   ],
   "source": [
    "SB"
   ]
  },
  {
   "cell_type": "code",
   "execution_count": 43,
   "id": "9583f2da",
   "metadata": {},
   "outputs": [],
   "source": [
    "SB.discard(60)"
   ]
  },
  {
   "cell_type": "code",
   "execution_count": 44,
   "id": "b0d78529",
   "metadata": {},
   "outputs": [
    {
     "data": {
      "text/plain": [
       "{20}"
      ]
     },
     "execution_count": 44,
     "metadata": {},
     "output_type": "execute_result"
    }
   ],
   "source": [
    "SB"
   ]
  },
  {
   "cell_type": "code",
   "execution_count": 45,
   "id": "bd6f36d8",
   "metadata": {},
   "outputs": [],
   "source": [
    "S3 = {'Django',50,75,100,'Machine Learning','Pyspark',(25,50,75,100),'Docker'}"
   ]
  },
  {
   "cell_type": "code",
   "execution_count": 46,
   "id": "0a75ecbb",
   "metadata": {},
   "outputs": [
    {
     "data": {
      "text/plain": [
       "{(25, 50, 75, 100),\n",
       " 100,\n",
       " 50,\n",
       " 75,\n",
       " 'Django',\n",
       " 'Docker',\n",
       " 'Machine Learning',\n",
       " 'Pyspark'}"
      ]
     },
     "execution_count": 46,
     "metadata": {},
     "output_type": "execute_result"
    }
   ],
   "source": [
    "S3"
   ]
  },
  {
   "cell_type": "code",
   "execution_count": null,
   "id": "deb92bcb",
   "metadata": {},
   "outputs": [],
   "source": []
  },
  {
   "cell_type": "markdown",
   "id": "47c784af",
   "metadata": {},
   "source": [
    "# Dictionary"
   ]
  },
  {
   "cell_type": "markdown",
   "id": "02658b8b",
   "metadata": {},
   "source": [
    "- Dictionary is collection of items or element.(Key+value) pair.\n",
    "- Key is always a immutable type and Value can be immmutable data type.\n",
    "- Dictionary is unorederd type.\n",
    "- If Key is present it returns its associates value. if key is not present it retuens default value."
   ]
  },
  {
   "cell_type": "code",
   "execution_count": 47,
   "id": "e3244e4e",
   "metadata": {},
   "outputs": [],
   "source": [
    "D1 = {'Name':'Shrushti','Address':'Navin Nagar','City':'Pune','Salary':45000,\n",
    "      'Gender':'Female', 'Nation':'India', 'Company':'TCS','FAv Team':'RCB'}"
   ]
  },
  {
   "cell_type": "code",
   "execution_count": 48,
   "id": "82c0bc1d",
   "metadata": {},
   "outputs": [
    {
     "data": {
      "text/plain": [
       "dict_values(['Shrushti', 'Navin Nagar', 'Pune', 45000, 'Female', 'India', 'TCS', 'RCB'])"
      ]
     },
     "execution_count": 48,
     "metadata": {},
     "output_type": "execute_result"
    }
   ],
   "source": [
    "D1.values()"
   ]
  },
  {
   "cell_type": "code",
   "execution_count": 49,
   "id": "c11b608e",
   "metadata": {},
   "outputs": [
    {
     "data": {
      "text/plain": [
       "dict_keys(['Name', 'Address', 'City', 'Salary', 'Gender', 'Nation', 'Company', 'FAv Team'])"
      ]
     },
     "execution_count": 49,
     "metadata": {},
     "output_type": "execute_result"
    }
   ],
   "source": [
    "D1.keys()"
   ]
  },
  {
   "cell_type": "markdown",
   "id": "0dd370b9",
   "metadata": {},
   "source": [
    "### pop()\n",
    "- To delete single item"
   ]
  },
  {
   "cell_type": "code",
   "execution_count": 50,
   "id": "ed605b40",
   "metadata": {},
   "outputs": [
    {
     "data": {
      "text/plain": [
       "'RCB'"
      ]
     },
     "execution_count": 50,
     "metadata": {},
     "output_type": "execute_result"
    }
   ],
   "source": [
    "D1.pop('FAv Team')"
   ]
  },
  {
   "cell_type": "code",
   "execution_count": 51,
   "id": "be37cc8e",
   "metadata": {},
   "outputs": [
    {
     "data": {
      "text/plain": [
       "{'Name': 'Shrushti',\n",
       " 'Address': 'Navin Nagar',\n",
       " 'City': 'Pune',\n",
       " 'Salary': 45000,\n",
       " 'Gender': 'Female',\n",
       " 'Nation': 'India',\n",
       " 'Company': 'TCS'}"
      ]
     },
     "execution_count": 51,
     "metadata": {},
     "output_type": "execute_result"
    }
   ],
   "source": [
    "D1"
   ]
  },
  {
   "cell_type": "markdown",
   "id": "e9d7d9fe",
   "metadata": {},
   "source": [
    "### popitem()\n",
    "- To delete the last element that you added."
   ]
  },
  {
   "cell_type": "code",
   "execution_count": 52,
   "id": "46baa9ac",
   "metadata": {},
   "outputs": [
    {
     "data": {
      "text/plain": [
       "('Company', 'TCS')"
      ]
     },
     "execution_count": 52,
     "metadata": {},
     "output_type": "execute_result"
    }
   ],
   "source": [
    "D1.popitem()"
   ]
  },
  {
   "cell_type": "code",
   "execution_count": 53,
   "id": "795c85e9",
   "metadata": {},
   "outputs": [
    {
     "data": {
      "text/plain": [
       "{'Name': None,\n",
       " 'Address': None,\n",
       " 'City': None,\n",
       " 'Salary': None,\n",
       " 'Gender': None,\n",
       " 'Nation': None}"
      ]
     },
     "execution_count": 53,
     "metadata": {},
     "output_type": "execute_result"
    }
   ],
   "source": [
    "D1.fromkeys(D1)"
   ]
  },
  {
   "cell_type": "code",
   "execution_count": 54,
   "id": "b5fd9ad8",
   "metadata": {},
   "outputs": [
    {
     "data": {
      "text/plain": [
       "'Pune'"
      ]
     },
     "execution_count": 54,
     "metadata": {},
     "output_type": "execute_result"
    }
   ],
   "source": [
    "D1.setdefault('City','Pune')"
   ]
  },
  {
   "cell_type": "code",
   "execution_count": 55,
   "id": "0e4d3a8b",
   "metadata": {},
   "outputs": [
    {
     "data": {
      "text/plain": [
       "{'Name': 'Shrushti',\n",
       " 'Address': 'Navin Nagar',\n",
       " 'City': 'Pune',\n",
       " 'Salary': 45000,\n",
       " 'Gender': 'Female',\n",
       " 'Nation': 'India'}"
      ]
     },
     "execution_count": 55,
     "metadata": {},
     "output_type": "execute_result"
    }
   ],
   "source": [
    "D1"
   ]
  },
  {
   "cell_type": "code",
   "execution_count": 56,
   "id": "e2a23f31",
   "metadata": {},
   "outputs": [
    {
     "data": {
      "text/plain": [
       "dict_items([('Name', 'Shrushti'), ('Address', 'Navin Nagar'), ('City', 'Pune'), ('Salary', 45000), ('Gender', 'Female'), ('Nation', 'India')])"
      ]
     },
     "execution_count": 56,
     "metadata": {},
     "output_type": "execute_result"
    }
   ],
   "source": [
    "D1.items()"
   ]
  },
  {
   "cell_type": "code",
   "execution_count": 57,
   "id": "a0a010ef",
   "metadata": {},
   "outputs": [
    {
     "data": {
      "text/plain": [
       "{'Name': 'Shrushti',\n",
       " 'Address': 'Navin Nagar',\n",
       " 'City': 'Pune',\n",
       " 'Salary': 45000,\n",
       " 'Gender': 'Female',\n",
       " 'Nation': 'India'}"
      ]
     },
     "execution_count": 57,
     "metadata": {},
     "output_type": "execute_result"
    }
   ],
   "source": [
    "D1.copy()"
   ]
  },
  {
   "cell_type": "code",
   "execution_count": 58,
   "id": "4932c7c9",
   "metadata": {},
   "outputs": [],
   "source": [
    "D1.update({'Company':'IBM'})"
   ]
  },
  {
   "cell_type": "code",
   "execution_count": 59,
   "id": "f84c9bc9",
   "metadata": {},
   "outputs": [
    {
     "data": {
      "text/plain": [
       "{'Name': 'Shrushti',\n",
       " 'Address': 'Navin Nagar',\n",
       " 'City': 'Pune',\n",
       " 'Salary': 45000,\n",
       " 'Gender': 'Female',\n",
       " 'Nation': 'India',\n",
       " 'Company': 'IBM'}"
      ]
     },
     "execution_count": 59,
     "metadata": {},
     "output_type": "execute_result"
    }
   ],
   "source": [
    "D1"
   ]
  },
  {
   "cell_type": "code",
   "execution_count": 60,
   "id": "b558367f",
   "metadata": {},
   "outputs": [],
   "source": [
    "D2 = {'Matrial Status':'Single'}"
   ]
  },
  {
   "cell_type": "code",
   "execution_count": 61,
   "id": "529d2025",
   "metadata": {},
   "outputs": [],
   "source": [
    "D1.update(D2)"
   ]
  },
  {
   "cell_type": "code",
   "execution_count": 62,
   "id": "d642ca8a",
   "metadata": {},
   "outputs": [
    {
     "data": {
      "text/plain": [
       "{'Name': 'Shrushti',\n",
       " 'Address': 'Navin Nagar',\n",
       " 'City': 'Pune',\n",
       " 'Salary': 45000,\n",
       " 'Gender': 'Female',\n",
       " 'Nation': 'India',\n",
       " 'Company': 'IBM',\n",
       " 'Matrial Status': 'Single'}"
      ]
     },
     "execution_count": 62,
     "metadata": {},
     "output_type": "execute_result"
    }
   ],
   "source": [
    "D1"
   ]
  },
  {
   "cell_type": "code",
   "execution_count": null,
   "id": "5590c745",
   "metadata": {},
   "outputs": [],
   "source": []
  },
  {
   "cell_type": "markdown",
   "id": "e0c97b25",
   "metadata": {},
   "source": [
    "# String"
   ]
  },
  {
   "cell_type": "code",
   "execution_count": 63,
   "id": "8b2e7073",
   "metadata": {},
   "outputs": [
    {
     "data": {
      "text/plain": [
       "'MOCK INTERVIEW'"
      ]
     },
     "execution_count": 63,
     "metadata": {},
     "output_type": "execute_result"
    }
   ],
   "source": [
    "S1 = 'mock interview'\n",
    "S1.upper()"
   ]
  },
  {
   "cell_type": "code",
   "execution_count": 64,
   "id": "933e2216",
   "metadata": {},
   "outputs": [
    {
     "data": {
      "text/plain": [
       "'Shrikant Pillai'"
      ]
     },
     "execution_count": 64,
     "metadata": {},
     "output_type": "execute_result"
    }
   ],
   "source": [
    "S2 = 'Shrikant Pillai '\n",
    "S2.strip()"
   ]
  },
  {
   "cell_type": "code",
   "execution_count": 65,
   "id": "cf76dce4",
   "metadata": {},
   "outputs": [
    {
     "data": {
      "text/plain": [
       "'Shrikant Pillai '"
      ]
     },
     "execution_count": 65,
     "metadata": {},
     "output_type": "execute_result"
    }
   ],
   "source": [
    "S2.lstrip()"
   ]
  },
  {
   "cell_type": "code",
   "execution_count": 66,
   "id": "9007d464",
   "metadata": {},
   "outputs": [
    {
     "data": {
      "text/plain": [
       "'Shrikant Pillai'"
      ]
     },
     "execution_count": 66,
     "metadata": {},
     "output_type": "execute_result"
    }
   ],
   "source": [
    "S2.rstrip()"
   ]
  },
  {
   "cell_type": "code",
   "execution_count": 67,
   "id": "be9951ff",
   "metadata": {},
   "outputs": [
    {
     "data": {
      "text/plain": [
       "['sagarvangari8928',\n",
       " 'gmail.com, shahrukhkhan8550',\n",
       " 'gmail.com, Nikhilgaikwad9730',\n",
       " 'gmail.com, tsd9596',\n",
       " 'gmail.com']"
      ]
     },
     "execution_count": 67,
     "metadata": {},
     "output_type": "execute_result"
    }
   ],
   "source": [
    "S3 = \"sagarvangari8928@gmail.com, shahrukhkhan8550@gmail.com, Nikhilgaikwad9730@gmail.com, tsd9596@gmail.com\" \n",
    "S3.split('@')"
   ]
  },
  {
   "cell_type": "code",
   "execution_count": 68,
   "id": "4449693a",
   "metadata": {},
   "outputs": [
    {
     "data": {
      "text/plain": [
       "'gmail.com, tsd9596'"
      ]
     },
     "execution_count": 68,
     "metadata": {},
     "output_type": "execute_result"
    }
   ],
   "source": [
    "S3.split('@')[3]"
   ]
  },
  {
   "cell_type": "code",
   "execution_count": 69,
   "id": "7af01e56",
   "metadata": {},
   "outputs": [
    {
     "data": {
      "text/plain": [
       "'gmail.com'"
      ]
     },
     "execution_count": 69,
     "metadata": {},
     "output_type": "execute_result"
    }
   ],
   "source": [
    "S4 = 'admin@gmail.com'\n",
    "S4.split(\"@\")[1]"
   ]
  },
  {
   "cell_type": "code",
   "execution_count": 70,
   "id": "7569fe8c",
   "metadata": {},
   "outputs": [
    {
     "data": {
      "text/plain": [
       "['sagarvangari8928@gmail.com, shahrukhkhan8550@gmail.com, Nikhilgaikwad9730@gmail.com, tsd9596@gmail.com']"
      ]
     },
     "execution_count": 70,
     "metadata": {},
     "output_type": "execute_result"
    }
   ],
   "source": [
    "S3.split(';')"
   ]
  },
  {
   "cell_type": "code",
   "execution_count": 71,
   "id": "5f840540",
   "metadata": {},
   "outputs": [
    {
     "data": {
      "text/plain": [
       "['test', 'show', 'mock', 'selection']"
      ]
     },
     "execution_count": 71,
     "metadata": {},
     "output_type": "execute_result"
    }
   ],
   "source": [
    "S5 = 'test@show@mock@selection'\n",
    "S5.split('@')"
   ]
  },
  {
   "cell_type": "code",
   "execution_count": 72,
   "id": "4c61e10f",
   "metadata": {},
   "outputs": [
    {
     "data": {
      "text/plain": [
       "['D', 'I', 'g', 'i', 't', 'a', 'l']"
      ]
     },
     "execution_count": 72,
     "metadata": {},
     "output_type": "execute_result"
    }
   ],
   "source": [
    "T = 'DIgital'\n",
    "list(T)"
   ]
  },
  {
   "cell_type": "code",
   "execution_count": 73,
   "id": "f64d98d4",
   "metadata": {},
   "outputs": [
    {
     "data": {
      "text/plain": [
       "6"
      ]
     },
     "execution_count": 73,
     "metadata": {},
     "output_type": "execute_result"
    }
   ],
   "source": [
    "T.find('l')"
   ]
  },
  {
   "cell_type": "code",
   "execution_count": 74,
   "id": "69656af8",
   "metadata": {},
   "outputs": [
    {
     "name": "stdout",
     "output_type": "stream",
     "text": [
      "144\n"
     ]
    },
    {
     "data": {
      "text/plain": [
       "'Multiplication of 12 and 12 is 144'"
      ]
     },
     "execution_count": 74,
     "metadata": {},
     "output_type": "execute_result"
    }
   ],
   "source": [
    "M1 = 12\n",
    "C1 = 12\n",
    "Y1 = M1 * C1\n",
    "\n",
    "print(Y1)\n",
    "\n",
    "'Multiplication of M1 and C1 is Y1'.format(Y1,M1,C1)\n",
    "'Multiplication of {} and {} is {}'.format(M1,C1,Y1)"
   ]
  },
  {
   "cell_type": "code",
   "execution_count": 75,
   "id": "ff5ee391",
   "metadata": {},
   "outputs": [],
   "source": [
    "Str = '(1,10,20,Hadoop,Bigdata,30,40,50)'"
   ]
  },
  {
   "cell_type": "code",
   "execution_count": 76,
   "id": "e00e4e61",
   "metadata": {},
   "outputs": [
    {
     "name": "stdout",
     "output_type": "stream",
     "text": [
      "(1,10,20,Hadoop,Bigdata,30,40,50)\n"
     ]
    }
   ],
   "source": [
    "print(Str)"
   ]
  },
  {
   "cell_type": "code",
   "execution_count": 77,
   "id": "dd87d11a",
   "metadata": {},
   "outputs": [
    {
     "data": {
      "text/plain": [
       "False"
      ]
     },
     "execution_count": 77,
     "metadata": {},
     "output_type": "execute_result"
    }
   ],
   "source": [
    "Str.isalpha()"
   ]
  },
  {
   "cell_type": "code",
   "execution_count": 78,
   "id": "a750a73d",
   "metadata": {},
   "outputs": [
    {
     "data": {
      "text/plain": [
       "False"
      ]
     },
     "execution_count": 78,
     "metadata": {},
     "output_type": "execute_result"
    }
   ],
   "source": [
    "Str.isalnum()"
   ]
  },
  {
   "cell_type": "code",
   "execution_count": 79,
   "id": "5e0e2f8a",
   "metadata": {},
   "outputs": [
    {
     "data": {
      "text/plain": [
       "False"
      ]
     },
     "execution_count": 79,
     "metadata": {},
     "output_type": "execute_result"
    }
   ],
   "source": [
    "Str.isnumeric()"
   ]
  },
  {
   "cell_type": "code",
   "execution_count": 80,
   "id": "bf05e12d",
   "metadata": {},
   "outputs": [
    {
     "data": {
      "text/plain": [
       "False"
      ]
     },
     "execution_count": 80,
     "metadata": {},
     "output_type": "execute_result"
    }
   ],
   "source": [
    "Str.islower()"
   ]
  },
  {
   "cell_type": "code",
   "execution_count": null,
   "id": "ec6fdcd5",
   "metadata": {},
   "outputs": [],
   "source": []
  },
  {
   "cell_type": "code",
   "execution_count": null,
   "id": "01c009eb",
   "metadata": {},
   "outputs": [],
   "source": []
  }
 ],
 "metadata": {
  "kernelspec": {
   "display_name": "Python 3 (ipykernel)",
   "language": "python",
   "name": "python3"
  },
  "language_info": {
   "codemirror_mode": {
    "name": "ipython",
    "version": 3
   },
   "file_extension": ".py",
   "mimetype": "text/x-python",
   "name": "python",
   "nbconvert_exporter": "python",
   "pygments_lexer": "ipython3",
   "version": "3.9.7"
  }
 },
 "nbformat": 4,
 "nbformat_minor": 5
}
