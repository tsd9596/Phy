{
 "cells": [
  {
   "cell_type": "markdown",
   "id": "37c70a2c",
   "metadata": {},
   "source": [
    "### Iterator :-\n",
    "- Iterator is object that used to iterate over itearable object like List,Tuple,Set and Dictionary.\n",
    "- It used next() for iteration.\n",
    "- The Iterator object is intialized by using iter() method."
   ]
  },
  {
   "cell_type": "code",
   "execution_count": 9,
   "id": "0db7a4cd",
   "metadata": {},
   "outputs": [
    {
     "data": {
      "text/plain": [
       "2"
      ]
     },
     "execution_count": 9,
     "metadata": {},
     "output_type": "execute_result"
    }
   ],
   "source": [
    "p = list(range(10))\n",
    "q = iter(p)\n",
    "type(q)\n",
    "next(q)   #----0\n",
    "next(q)   #----1\n",
    "next(q)"
   ]
  },
  {
   "cell_type": "code",
   "execution_count": 11,
   "id": "5db61659",
   "metadata": {},
   "outputs": [
    {
     "data": {
      "text/plain": [
       "5"
      ]
     },
     "execution_count": 11,
     "metadata": {},
     "output_type": "execute_result"
    }
   ],
   "source": [
    "Tu  = (1,5,7,89,56,45)\n",
    "py = iter(Tu)\n",
    "next(py)\n",
    "next(py)"
   ]
  },
  {
   "cell_type": "code",
   "execution_count": null,
   "id": "1e18d8b4",
   "metadata": {},
   "outputs": [],
   "source": []
  }
 ],
 "metadata": {
  "kernelspec": {
   "display_name": "Python 3 (ipykernel)",
   "language": "python",
   "name": "python3"
  },
  "language_info": {
   "codemirror_mode": {
    "name": "ipython",
    "version": 3
   },
   "file_extension": ".py",
   "mimetype": "text/x-python",
   "name": "python",
   "nbconvert_exporter": "python",
   "pygments_lexer": "ipython3",
   "version": "3.9.7"
  }
 },
 "nbformat": 4,
 "nbformat_minor": 5
}
