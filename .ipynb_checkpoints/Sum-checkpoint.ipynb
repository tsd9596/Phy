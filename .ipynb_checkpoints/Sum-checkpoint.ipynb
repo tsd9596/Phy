{
 "cells": [
  {
   "cell_type": "code",
   "execution_count": 2,
   "id": "ff8d4035",
   "metadata": {},
   "outputs": [
    {
     "name": "stdout",
     "output_type": "stream",
     "text": [
      "Enter No For A:5\n",
      "Enter No For B:5\n",
      "10\n"
     ]
    }
   ],
   "source": [
    "A = int(input(\"Enter No For A:\"))\n",
    "\n",
    "B = int(input(\"Enter No For B:\"))\n",
    "\n",
    "\n",
    "Result = A + B\n",
    "\n",
    "print(Result)"
   ]
  },
  {
   "cell_type": "code",
   "execution_count": null,
   "id": "f939e4a8",
   "metadata": {},
   "outputs": [],
   "source": []
  }
 ],
 "metadata": {
  "kernelspec": {
   "display_name": "Python 3 (ipykernel)",
   "language": "python",
   "name": "python3"
  },
  "language_info": {
   "codemirror_mode": {
    "name": "ipython",
    "version": 3
   },
   "file_extension": ".py",
   "mimetype": "text/x-python",
   "name": "python",
   "nbconvert_exporter": "python",
   "pygments_lexer": "ipython3",
   "version": "3.9.7"
  }
 },
 "nbformat": 4,
 "nbformat_minor": 5
}
